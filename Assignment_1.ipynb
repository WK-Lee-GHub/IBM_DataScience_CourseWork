{
 "cells": [
  {
   "cell_type": "markdown",
   "id": "8e6dd954-2a4f-460c-9900-fbded2f81bf9",
   "metadata": {},
   "source": [
    "# Data Science Tools and Ecosystem"
   ]
  },
  {
   "cell_type": "markdown",
   "id": "15281fca-7c86-425a-a464-aa057c55197f",
   "metadata": {},
   "source": [
    "In this notebook, Data Science Tools and Ecosystem are summarized."
   ]
  },
  {
   "cell_type": "markdown",
   "id": "8259f2e3-39d1-42a4-b725-33e294d96c70",
   "metadata": {},
   "source": [
    "**Objectives:**\n",
    "- Popular language for Data Science\n",
    "- Common libraries for Data Science\n",
    "- Tools for Data Science\n",
    "- Sample Code in Python"
   ]
  },
  {
   "cell_type": "markdown",
   "id": "439031e0-f3d9-48c8-b89c-1182122cff05",
   "metadata": {},
   "source": [
    "Some of the popular languages that Data Scientists use are:\n",
    "1. Python\n",
    "2. R\n",
    "3. Julia\n",
    "4. Scala\n",
    "5. JavaScript"
   ]
  },
  {
   "cell_type": "markdown",
   "id": "82416382-b150-4826-8516-724df6f4cd17",
   "metadata": {},
   "source": [
    "Some of the commonly used libraries used by Data Scientists include:\n",
    "- Panda\n",
    "- Numpy\n",
    "- Scikit-learn\n",
    "- Tensorflow\n",
    "- Matplotlib"
   ]
  },
  {
   "cell_type": "markdown",
   "id": "7793644b-5dfe-48f8-8d57-77acdcb63237",
   "metadata": {},
   "source": [
    "|Data Science Tools|\n",
    "|-|\n",
    "|Hadoop|\n",
    "|Jupyter Notebook|\n",
    "|Rstudio|"
   ]
  },
  {
   "cell_type": "markdown",
   "id": "c306845f-2018-470f-82be-7d8e21a76315",
   "metadata": {},
   "source": [
    "### Below are a few examples of evaluating arithmetic expressions in Python\n"
   ]
  },
  {
   "cell_type": "code",
   "execution_count": 2,
   "id": "6ef2f468-a665-4948-b647-764f9f16bb0c",
   "metadata": {},
   "outputs": [
    {
     "data": {
      "text/plain": [
       "17"
      ]
     },
     "execution_count": 2,
     "metadata": {},
     "output_type": "execute_result"
    }
   ],
   "source": [
    "(3*4)+5\n",
    "#This a simple arithmetic expression to mutiply then add integers"
   ]
  },
  {
   "cell_type": "code",
   "execution_count": 3,
   "id": "3e4a5f43-b931-455d-a7d5-8131d4028180",
   "metadata": {},
   "outputs": [
    {
     "data": {
      "text/plain": [
       "3.3333333333333335"
      ]
     },
     "execution_count": 3,
     "metadata": {},
     "output_type": "execute_result"
    }
   ],
   "source": [
    "200/60\n",
    "#This will convert 200 minutes to hours by diving by 60"
   ]
  },
  {
   "cell_type": "markdown",
   "id": "81778a86-d64c-4f76-add0-696c2518bc38",
   "metadata": {},
   "source": [
    "## Author\n",
    "Lee Wai Kit"
   ]
  },
  {
   "cell_type": "code",
   "execution_count": null,
   "id": "7bf3695b-23f0-40f9-85bf-e78ce531c84d",
   "metadata": {},
   "outputs": [],
   "source": []
  }
 ],
 "metadata": {
  "kernelspec": {
   "display_name": "Python 3 (ipykernel)",
   "language": "python",
   "name": "python3"
  },
  "language_info": {
   "codemirror_mode": {
    "name": "ipython",
    "version": 3
   },
   "file_extension": ".py",
   "mimetype": "text/x-python",
   "name": "python",
   "nbconvert_exporter": "python",
   "pygments_lexer": "ipython3",
   "version": "3.11.7"
  }
 },
 "nbformat": 4,
 "nbformat_minor": 5
}
